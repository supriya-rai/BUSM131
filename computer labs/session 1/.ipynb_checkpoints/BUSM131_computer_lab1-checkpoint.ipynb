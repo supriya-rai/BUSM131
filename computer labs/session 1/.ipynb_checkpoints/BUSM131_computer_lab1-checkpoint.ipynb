{
 "cells": [
  {
   "cell_type": "markdown",
   "metadata": {},
   "source": [
    "# BUSM131 Computer Lab Session 1\n",
    "## Introduction to Python Programming Part 1\n",
    "\n",
    "This is the computer lab [Python](https://www.python.org/) programming tutorial part 1. In this session, we will introduce the basics of programming with Python, in which we will look at variable assignments and different data types (numerical, text, list, and tuples). \n",
    "\n",
    "The first set of computer lab tutorials on Python programming follows the structure and organisation of McKinney, W. 2017. Python for Data Analysis, 2nd Edition, O'Reilly, but there are many equally good online resources. The computer lab tutorials are complementary to the Datacamp courses. There will be some overlaps between the computer lab material and Datacamp tutorials in the first 3-4 weeks, as this will help consolidate your learning, especially if you are new to Python. More advanced material on web scraping, machine learning, and deep learning with Python will follow.\n",
    "\n",
    "## Install Python and Jupyter Notebook on Your Personal Computers\n",
    "\n",
    "Install Python and Jupyter Notebook by downloading the most recent stable version of the [Anaconda](https://www.anaconda.com/products/individual) distribution, which can be downloaded from the provided link. Different interpreters and development environments can be used with Python. We will use the [Jupyter Notebook](https://jupyter.org/), which is a web browser based application that allows you to run and to insert text, equations, and graphics.\n",
    "\n",
    "After installation, you can open a Jupyter notebook into which you can write code and execute. Follow the steps on [Jupyter Notebook website](https://jupyter-notebook-beginner-guide.readthedocs.io/en/latest/execute.html) for operating system specific instructions, which involves running `jupyter notebook` in a terminal. You can `rename` and `save` notebooks from the `File` menu.\n",
    "\n",
    "## Markdown and Code Cells\n",
    "\n",
    "You can insert **code** and **markdown** cells into Jupyter notebooks. Code cells are for typing and running Python code. Markdown cells are for the text content and they serve a similar function to *HTML* to organize and format documents. \n",
    "\n",
    "You can add section titles by `#`, `##`, `###`, you can create numbered and bullet lists by starting the line with the corresponding marker, e.g. `1.`,`2.`, `3.`. You can format text for instance by `*italic_text*` and `**bold_text**`. Visit [Markdown Guide](https://www.markdownguide.org/) for further details.  \n",
    "\n",
    "You can change the cell type from the drop-down menu at the top or choose the cell and press the keys <kbd>y</kbd> and <kbd>m</kbd> for the code and the markdown cells, respectively.\n",
    "\n",
    "Python is an interpreted language, meaning that you can freely execute different segments of code (which are cells on Jupyter notebooks) without the need to compile it first to the machine code. This reduces the development time and facilitates experimentation with data in an interactive way but slows down execution time, especially for computationally intensive tasks. This is why most heavy computations are implemented in other languages C and C++, which you access through a Python API, which is distributed as a Python package. \n",
    "\n",
    "If you click on *Run* or hit <kbd>shift</kbd>+<kbd>enter</kbd>  or <kbd>ctrl</kbd>+<kbd>enter</kbd> shortcuts, it runs the selected cell (more options under *Cell*).  \n",
    "\n",
    "## Getting Started\n",
    "\n",
    "We shall now start using Python as a simple calculator. You can use the operators `+` (add), `-` (substract), `*` (multiply), `/` (divide), `**` (power), `%` (modulus) in *expressions*. For instance:"
   ]
  },
  {
   "cell_type": "code",
   "execution_count": null,
   "metadata": {},
   "outputs": [],
   "source": [
    "# Calculate (3 - 5 * 1.8) / 1.2\n",
    "__3 __ 5 __ 1.8 __ 1.2"
   ]
  },
  {
   "cell_type": "markdown",
   "metadata": {},
   "source": [
    "### Variable Assignment\n",
    "\n",
    "Assign the outcome of an expression on the right of the equation to the variable. "
   ]
  },
  {
   "cell_type": "code",
   "execution_count": null,
   "metadata": {},
   "outputs": [],
   "source": [
    "# Assign square of 3 to x\n",
    "x = __"
   ]
  },
  {
   "cell_type": "markdown",
   "metadata": {},
   "source": [
    "You can print the value of the variable `x` by simply running `x` or `print(x)`. `print()` is the first *function* we are seeing and using. A function is a block of code that takes inputs through its arguments, performs some taks, and potentially returns a value at the end."
   ]
  },
  {
   "cell_type": "code",
   "execution_count": null,
   "metadata": {},
   "outputs": [],
   "source": [
    "print(__)"
   ]
  },
  {
   "cell_type": "markdown",
   "metadata": {},
   "source": [
    "Some dataypes such as integers, floating numbers, and strings are *immutable*, meaning that if you try to alter the value, Python basically creates a new object with the same name.\n",
    "\n",
    "Check what results you expect to see:"
   ]
  },
  {
   "cell_type": "code",
   "execution_count": null,
   "metadata": {},
   "outputs": [],
   "source": [
    "x = 10\n",
    "y = x \n",
    "x *= 2 #This is called augmented assignment and it is equivalent to x = x * 2\n",
    "print('x:', x, ',y:', y) #You can print multiple values by putting a comma in between "
   ]
  },
  {
   "cell_type": "markdown",
   "metadata": {},
   "source": [
    "## Data Types\n",
    "\n",
    "Python has several built-in data types and you can define new types by creating classes. A thorough coverage of object-oriented programming is beyond the scope of this module but you will see some examples of classes for instance for customised pre-processing tasks. \n",
    "\n",
    "You can learn the type of an object by calling the `type` function. Here we focus on the most fundamental data types. \n",
    "\n",
    "### Numeric Data Types\n",
    "The numeric data is held as integers (`int`) and floating numbers (`float`). "
   ]
  },
  {
   "cell_type": "code",
   "execution_count": null,
   "metadata": {},
   "outputs": [],
   "source": [
    "x = 1\n",
    "y = 2.8\n",
    "# Print the types of the variables x and y\n",
    "print(__(x), __(y), __(x + y)) "
   ]
  },
  {
   "cell_type": "markdown",
   "metadata": {},
   "source": [
    "For numerical computations, the most commonly used Python package (library) is `numpy`, which most importantly provides a collection of mathematical functions and the `array` type (`ndarray`). We will look at `numpy` in more detail later but we shall now illustrate how it is used. For using functions or classes from a package, you should first `import` the package."
   ]
  },
  {
   "cell_type": "code",
   "execution_count": null,
   "metadata": {},
   "outputs": [],
   "source": [
    "import numpy as np # np is an alias for numpy, which we will use to access numpy functions"
   ]
  },
  {
   "cell_type": "markdown",
   "metadata": {},
   "source": [
    "We can now call the functions and constants from the `numpy` package by for instance`np.sqrt()`."
   ]
  },
  {
   "cell_type": "code",
   "execution_count": null,
   "metadata": {},
   "outputs": [],
   "source": [
    "# Print the result of the expression pi + sqrt(3)\n",
    "print(__.__+__.__(3))"
   ]
  },
  {
   "cell_type": "markdown",
   "metadata": {},
   "source": [
    "### Text Data Type\n",
    "\n",
    "The text data type in Python is `str`, which is immutable but iterable. You define a `str` by using `''` or `\"\"`. "
   ]
  },
  {
   "cell_type": "code",
   "execution_count": null,
   "metadata": {},
   "outputs": [],
   "source": [
    "# Assign your first name and last name to the respective variables\n",
    "first_name = __\n",
    "last_name = __"
   ]
  },
  {
   "cell_type": "markdown",
   "metadata": {},
   "source": [
    "You can concatenate `str` objects by `+`: "
   ]
  },
  {
   "cell_type": "code",
   "execution_count": null,
   "metadata": {},
   "outputs": [],
   "source": [
    "# Create your full name variable\n",
    "name = first_name __ ' ' __ last_name\n",
    "# Print your full name:\n",
    "__"
   ]
  },
  {
   "cell_type": "markdown",
   "metadata": {},
   "source": [
    "You can access the individual characters in your string variable, because it is iterable. Python is zero-indexed, meaning that the index of the first, second, third elements are 0, 1, 2, .... The subscripting is done by `x[3]`, which returns the fourth element of the iterable x. "
   ]
  },
  {
   "cell_type": "code",
   "execution_count": null,
   "metadata": {},
   "outputs": [],
   "source": [
    "# Print the second letter of your name\n",
    "name[__]"
   ]
  },
  {
   "cell_type": "markdown",
   "metadata": {},
   "source": [
    "The last element can be accessed by -1 and you can go backwards by -1, -2, -3, etc."
   ]
  },
  {
   "cell_type": "code",
   "execution_count": null,
   "metadata": {},
   "outputs": [],
   "source": [
    "# Print the first two and last two letters of your name, \n",
    "print(__,__,__,__)"
   ]
  },
  {
   "cell_type": "markdown",
   "metadata": {},
   "source": [
    "You can *slice* the string by giving the first (inclusive) and last (exclusive) indices from which to slice. For instance, `x[1:4]` returns the x elements in indices 1, 2, and 3.  "
   ]
  },
  {
   "cell_type": "code",
   "execution_count": null,
   "metadata": {},
   "outputs": [],
   "source": [
    "# Return the second to fourth letters of your name, including both\n",
    "__"
   ]
  },
  {
   "cell_type": "markdown",
   "metadata": {},
   "source": [
    "Note that you cannot change this value because `str` objects are immutable."
   ]
  },
  {
   "cell_type": "code",
   "execution_count": null,
   "metadata": {},
   "outputs": [],
   "source": [
    "# Try the following\n",
    "name[3] = 'z'"
   ]
  },
  {
   "cell_type": "markdown",
   "metadata": {},
   "source": [
    "You can get the length of a `str` object (and any iterable) by calling the `len()` function:"
   ]
  },
  {
   "cell_type": "code",
   "execution_count": null,
   "metadata": {},
   "outputs": [],
   "source": [
    "# Print the number of letters in your name\n",
    "__"
   ]
  },
  {
   "cell_type": "markdown",
   "metadata": {},
   "source": [
    "#### Str Methods\n",
    "When you create a string object, it comes equipped with a set of methods. Some useful methods are as follows. You can get a list of the methods by `dir(str)`\n",
    "- `split`: splits the string into words separated by whitespace\n",
    "- `count`: counts the appearance of provided substring in the string\n",
    "- `find`: returns the first instance of the substring\n",
    "- `isalpha`: returns `True` if all alphabetical letters, `False` otherwise\n",
    "- `isdigit`: returns `True` is all digits, `False` otherwise\n",
    "- `lower` (`upper`): change all letters to lower character\n",
    "- `replace`: replace all instances of the substring to the new substring \n",
    "- `join`: if you have a series of objects you can join them by the provided string"
   ]
  },
  {
   "cell_type": "code",
   "execution_count": null,
   "metadata": {},
   "outputs": [],
   "source": [
    "sentence = \"We have all been looking forward to this day\"\n",
    "# split the sentence to a list of words\n",
    "words = __\n",
    "#print words\n",
    "__"
   ]
  },
  {
   "cell_type": "code",
   "execution_count": null,
   "metadata": {},
   "outputs": [],
   "source": [
    "# Count the number of instances of the phrases 'THE' / 'the' / 'tHe' ... and also the start index of the first instance\n",
    "text = \"instances of THE, while the first starts at index\"\n",
    "print('counts of \"the\" ', __, ' - first \"the\" starts at index: ', __)"
   ]
  },
  {
   "cell_type": "markdown",
   "metadata": {},
   "source": [
    "## LIST\n",
    "\n",
    "List is a sequence data type and provides an iterable collection of individual elements. You can create a list of any objects you want. For instance, a list of numbers, a list of strings, a list of numbers and strings mixed, list of lists, list of functions, and basically list of any objects."
   ]
  },
  {
   "cell_type": "code",
   "execution_count": null,
   "metadata": {},
   "outputs": [],
   "source": [
    "# list of integers 2, 7, 9\n",
    "first_list = [2,7,9] \n",
    "# print the list\n",
    "__"
   ]
  },
  {
   "cell_type": "code",
   "execution_count": null,
   "metadata": {},
   "outputs": [],
   "source": [
    "# create a list of strings 'apple' and 'orange'\n",
    "second_list = __\n",
    "# print the list \n",
    "__"
   ]
  },
  {
   "cell_type": "markdown",
   "metadata": {},
   "source": [
    "Empty list is created by x = [], which might be needed if you populate a list through a loop."
   ]
  },
  {
   "cell_type": "code",
   "execution_count": null,
   "metadata": {},
   "outputs": [],
   "source": [
    "x = [] #empty list"
   ]
  },
  {
   "cell_type": "markdown",
   "metadata": {},
   "source": [
    "You can concatenate lists by using `+`. Note the data types of elements are not affected."
   ]
  },
  {
   "cell_type": "code",
   "execution_count": null,
   "metadata": {},
   "outputs": [],
   "source": [
    "# Append second_list to the end of the first_list\n",
    "__ __ __"
   ]
  },
  {
   "cell_type": "markdown",
   "metadata": {},
   "source": [
    "You can convert other data types to list by the `list()` function, which is useful in some instances."
   ]
  },
  {
   "cell_type": "code",
   "execution_count": null,
   "metadata": {},
   "outputs": [],
   "source": [
    "my_string = __\n",
    "# Create a list of characters in my_string\n",
    "__"
   ]
  },
  {
   "cell_type": "markdown",
   "metadata": {},
   "source": [
    "Lists are iterable, which means you can index and slice lists as for strings"
   ]
  },
  {
   "cell_type": "code",
   "execution_count": null,
   "metadata": {},
   "outputs": [],
   "source": [
    "x = [1, 4, \"three\", -2.8]\n",
    "# Subscript the element in index 2\n",
    "__"
   ]
  },
  {
   "cell_type": "code",
   "execution_count": null,
   "metadata": {},
   "outputs": [],
   "source": [
    "# Slice the list of all elements except the last one\n",
    "x[__]"
   ]
  },
  {
   "cell_type": "markdown",
   "metadata": {},
   "source": [
    "Lists are mutable, meaning you can change the values of individual elements, differently from strings and numerical basic datatypes."
   ]
  },
  {
   "cell_type": "code",
   "execution_count": null,
   "metadata": {},
   "outputs": [],
   "source": [
    "# Change the value of \"three\" to 3\n",
    "__\n",
    "#Print x\n",
    "__"
   ]
  },
  {
   "cell_type": "markdown",
   "metadata": {},
   "source": [
    "### List Aliasing \n",
    "\n",
    "Lists are mutable and Python calls by object. When you assign one variable to another list, the two variables become alias for the same list object, also called deep copy. You must keep this in mind when working with lists. "
   ]
  },
  {
   "cell_type": "code",
   "execution_count": null,
   "metadata": {},
   "outputs": [],
   "source": [
    "# What output do you expect from the following?\n",
    "x = [3, 6, 8]\n",
    "y = x\n",
    "y[2] = -1\n",
    "print(x, y)"
   ]
  },
  {
   "cell_type": "markdown",
   "metadata": {},
   "source": [
    "If you want a shallow copy, you can use the `list()` function."
   ]
  },
  {
   "cell_type": "code",
   "execution_count": null,
   "metadata": {},
   "outputs": [],
   "source": [
    "# What output do you expect from the following?\n",
    "x = [3, 6, [1, 7, 2]]\n",
    "y = list(x)\n",
    "y[1] = -1\n",
    "print(x, y)"
   ]
  },
  {
   "cell_type": "markdown",
   "metadata": {},
   "source": [
    "### List Methods\n",
    "There are various methods of lists for inserting, removing and sorting elements, which are mutator methods, meaning that they change the list object itself. You call the method `method1` of the object x by calling `x.method1()`.\n",
    "- `insert(ind, y)` inserts element `y` at index `ind` and shifts all consecutive items by one to the right\n",
    "- `append(y)` adds element `y` at the end of the list\n",
    "- `extend([y1, y2, y3])` append elements `y1`, `y2`, and `y3` at the end of the list\n",
    "- `pop(ind)` removes the element in index ind, remove the last element if no index provided\n",
    "- `sort()` sorts the list if it is sortable (numbers or strings)"
   ]
  },
  {
   "cell_type": "code",
   "execution_count": null,
   "metadata": {},
   "outputs": [],
   "source": [
    "y = [-6, 2, 'python', 3.1, [1.2, 0]]\n",
    "y.insert(2, 'anaconda')\n",
    "# What output do you expect?\n",
    "y"
   ]
  },
  {
   "cell_type": "code",
   "execution_count": null,
   "metadata": {},
   "outputs": [],
   "source": [
    "# Add 'jupyter' at the end of the list\n",
    "__\n",
    "# Add [-2, 6] at the end of the list\n",
    "__\n",
    "# Remove the first (zeroth index) element\n",
    "__\n",
    "# Print y\n",
    "__"
   ]
  },
  {
   "cell_type": "code",
   "execution_count": null,
   "metadata": {},
   "outputs": [],
   "source": [
    "list1 = [-6, 7, 2]\n",
    "# Sort the elements\n",
    "__\n",
    "# Print list1\n",
    "__"
   ]
  },
  {
   "cell_type": "code",
   "execution_count": null,
   "metadata": {},
   "outputs": [],
   "source": [
    "# Sort list1 in descending order by passing the argument reverse = True\n",
    "__\n",
    "# Print list1\n",
    "__"
   ]
  },
  {
   "cell_type": "code",
   "execution_count": null,
   "metadata": {},
   "outputs": [],
   "source": [
    "list2 = ['marketing', 'finance', 'accounting', 'operations management']\n",
    "# Sort the elements in alphabetical order\n",
    "__\n",
    "# Print list1\n",
    "__"
   ]
  },
  {
   "cell_type": "code",
   "execution_count": null,
   "metadata": {},
   "outputs": [],
   "source": [
    "# What output do you expect?\n",
    "list2 = [0, -2.2, 'accounting']\n",
    "list2.sort()"
   ]
  },
  {
   "cell_type": "markdown",
   "metadata": {},
   "source": [
    "## TUPLE\n",
    "A tuple is a fixed-length, immutable sequence of Python objects. It is very similar to list but cannot be altered. You can convert any sequence or iterator to tuple using `tuple()` (similar to `list()`). Elements can be accessed with square brackets [] as for other sequence types."
   ]
  },
  {
   "cell_type": "code",
   "execution_count": null,
   "metadata": {},
   "outputs": [],
   "source": [
    "# Create a tuple\n",
    "tup = 1, 2, 3, 'a', None, [1, 6, 2]\n",
    "tup"
   ]
  },
  {
   "cell_type": "code",
   "execution_count": null,
   "metadata": {},
   "outputs": [],
   "source": [
    "# Slice elements in indices 2  to 4 (inclusive)\n",
    "tup[2:5]"
   ]
  },
  {
   "cell_type": "code",
   "execution_count": null,
   "metadata": {},
   "outputs": [],
   "source": [
    "# What do you expect?\n",
    "tup[-1] = 0\n",
    "tup"
   ]
  },
  {
   "cell_type": "code",
   "execution_count": null,
   "metadata": {},
   "outputs": [],
   "source": [
    "# What do you now expect?\n",
    "tup[-1][1] = -2\n",
    "tup"
   ]
  },
  {
   "cell_type": "markdown",
   "metadata": {},
   "source": [
    "Tuples can be unpacked:"
   ]
  },
  {
   "cell_type": "code",
   "execution_count": null,
   "metadata": {},
   "outputs": [],
   "source": [
    "a = (-1, 1)\n",
    "x, y = a\n",
    "# What output do you expect?\n",
    "print(x, y)"
   ]
  },
  {
   "cell_type": "markdown",
   "metadata": {},
   "source": [
    "## What to expect next?\n",
    "- In our next session, we will continue with the fundamentals of Python programming. We will look at other collection types (sets and dictionaries), control flows, and functions. \n",
    "- After this session, complete the Datacamp tutorial for Quiz 2 (see QMPlus).\n",
    "- Start inspecting the machine learning projects on Githubs. We will develop similar projects together in our future computer lab sessions."
   ]
  }
 ],
 "metadata": {
  "kernelspec": {
   "display_name": "Python 3",
   "language": "python",
   "name": "python3"
  },
  "language_info": {
   "codemirror_mode": {
    "name": "ipython",
    "version": 3
   },
   "file_extension": ".py",
   "mimetype": "text/x-python",
   "name": "python",
   "nbconvert_exporter": "python",
   "pygments_lexer": "ipython3",
   "version": "3.8.5"
  }
 },
 "nbformat": 4,
 "nbformat_minor": 4
}

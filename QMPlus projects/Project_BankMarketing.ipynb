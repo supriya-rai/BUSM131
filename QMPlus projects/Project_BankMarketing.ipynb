{
 "cells": [
  {
   "cell_type": "markdown",
   "metadata": {},
   "source": [
    "# Machine Learning Project 'Bank Marketing'\n",
    "\n",
    "Project by Yossi Lichtenstein and Linus Wunderlich\n",
    "\n",
    "Code based on https://github.com/ageron/handson-ml/blob/master/02_end_to_end_machine_learning_project.ipynb\n",
    "\n",
    "Dataset from a Portuguese bank, based on a kaggle competition:\n",
    "https://www.kaggle.com/yufengsui/portuguese-bank-marketing-data-set\n",
    "\n",
    "\n",
    "Idea based on a student's project of Nisal Liyanaarachchi\n",
    "\n",
    "## Aim:\n",
    "Predict the outcome of a bank's marketing campaign based on some information collected on the customers. In particular, we wish to decide which customers to call."
   ]
  },
  {
   "cell_type": "markdown",
   "metadata": {},
   "source": [
    "# Initialisation: Import module and set random seeds"
   ]
  },
  {
   "cell_type": "code",
   "execution_count": 1,
   "metadata": {},
   "outputs": [],
   "source": [
    "# Python ≥3.5 is required\n",
    "import sys\n",
    "assert sys.version_info >= (3, 5)\n",
    "\n",
    "# Scikit-Learn ≥0.20 is required\n",
    "import sklearn\n",
    "assert sklearn.__version__ >= \"0.20\"\n",
    "\n",
    "import matplotlib.pyplot as plt\n",
    "\n",
    "import os\n",
    "import pandas as pd\n",
    "import numpy as np\n",
    "\n",
    "from sklearn.pipeline import Pipeline\n",
    "from sklearn.preprocessing import StandardScaler\n",
    "from sklearn.model_selection import train_test_split\n",
    "from sklearn.impute import SimpleImputer\n",
    "from sklearn.preprocessing import OneHotEncoder \n",
    "from sklearn.pipeline import FeatureUnion\n",
    "from sklearn.base import BaseEstimator, TransformerMixin\n",
    "\n",
    "#Models\n",
    "from sklearn.linear_model import LogisticRegression\n",
    "from sklearn.tree import DecisionTreeClassifier\n",
    "from sklearn.ensemble import RandomForestClassifier\n",
    "from sklearn.svm import SVC\n",
    "\n",
    "\n",
    "# Model evaluation und visualisation\n",
    "from sklearn.metrics import mean_squared_error\n",
    "from sklearn.model_selection import cross_val_score\n",
    "from sklearn.metrics import confusion_matrix\n",
    "from sklearn.metrics import roc_curve\n",
    "from sklearn.metrics import precision_recall_curve\n",
    "\n",
    "# Hyperparameter optimisation\n",
    "from sklearn.model_selection import GridSearchCV\n",
    "\n",
    "# to make this notebook's output stable across runs\n",
    "np.random.seed(42)"
   ]
  },
  {
   "cell_type": "markdown",
   "metadata": {},
   "source": [
    "# Load and investigate data"
   ]
  },
  {
   "cell_type": "code",
   "execution_count": 2,
   "metadata": {},
   "outputs": [],
   "source": [
    "marketing_data = pd.read_csv(\"bank-downsampled.csv\")"
   ]
  },
  {
   "cell_type": "markdown",
   "metadata": {},
   "source": [
    "Before investigating the date, we read the description on Kaggle and the UCI Machine Learning Repository\n",
    "\n",
    "https://www.kaggle.com/yufengsui/portuguese-bank-marketing-data-set\n",
    "    \n",
    "https://archive.ics.uci.edu/ml/datasets/Bank+Marketing\n",
    "\n",
    "Also we can use Excel to investigate the data manually"
   ]
  },
  {
   "cell_type": "code",
   "execution_count": 3,
   "metadata": {},
   "outputs": [
    {
     "data": {
      "text/html": [
       "<div>\n",
       "<style scoped>\n",
       "    .dataframe tbody tr th:only-of-type {\n",
       "        vertical-align: middle;\n",
       "    }\n",
       "\n",
       "    .dataframe tbody tr th {\n",
       "        vertical-align: top;\n",
       "    }\n",
       "\n",
       "    .dataframe thead th {\n",
       "        text-align: right;\n",
       "    }\n",
       "</style>\n",
       "<table border=\"1\" class=\"dataframe\">\n",
       "  <thead>\n",
       "    <tr style=\"text-align: right;\">\n",
       "      <th></th>\n",
       "      <th>age</th>\n",
       "      <th>job</th>\n",
       "      <th>marital</th>\n",
       "      <th>education</th>\n",
       "      <th>default</th>\n",
       "      <th>balance</th>\n",
       "      <th>housing</th>\n",
       "      <th>loan</th>\n",
       "      <th>contact</th>\n",
       "      <th>day</th>\n",
       "      <th>month</th>\n",
       "      <th>duration</th>\n",
       "      <th>campaign</th>\n",
       "      <th>pdays</th>\n",
       "      <th>previous</th>\n",
       "      <th>poutcome</th>\n",
       "      <th>deposit</th>\n",
       "    </tr>\n",
       "  </thead>\n",
       "  <tbody>\n",
       "    <tr>\n",
       "      <th>0</th>\n",
       "      <td>59</td>\n",
       "      <td>admin.</td>\n",
       "      <td>married</td>\n",
       "      <td>secondary</td>\n",
       "      <td>no</td>\n",
       "      <td>2343</td>\n",
       "      <td>yes</td>\n",
       "      <td>no</td>\n",
       "      <td>unknown</td>\n",
       "      <td>5</td>\n",
       "      <td>may</td>\n",
       "      <td>1042</td>\n",
       "      <td>1</td>\n",
       "      <td>-1</td>\n",
       "      <td>0</td>\n",
       "      <td>unknown</td>\n",
       "      <td>no</td>\n",
       "    </tr>\n",
       "    <tr>\n",
       "      <th>1</th>\n",
       "      <td>56</td>\n",
       "      <td>admin.</td>\n",
       "      <td>married</td>\n",
       "      <td>secondary</td>\n",
       "      <td>no</td>\n",
       "      <td>45</td>\n",
       "      <td>no</td>\n",
       "      <td>no</td>\n",
       "      <td>unknown</td>\n",
       "      <td>5</td>\n",
       "      <td>may</td>\n",
       "      <td>1467</td>\n",
       "      <td>1</td>\n",
       "      <td>-1</td>\n",
       "      <td>0</td>\n",
       "      <td>unknown</td>\n",
       "      <td>no</td>\n",
       "    </tr>\n",
       "    <tr>\n",
       "      <th>2</th>\n",
       "      <td>41</td>\n",
       "      <td>technician</td>\n",
       "      <td>married</td>\n",
       "      <td>secondary</td>\n",
       "      <td>no</td>\n",
       "      <td>1270</td>\n",
       "      <td>yes</td>\n",
       "      <td>no</td>\n",
       "      <td>unknown</td>\n",
       "      <td>5</td>\n",
       "      <td>may</td>\n",
       "      <td>1389</td>\n",
       "      <td>1</td>\n",
       "      <td>-1</td>\n",
       "      <td>0</td>\n",
       "      <td>unknown</td>\n",
       "      <td>no</td>\n",
       "    </tr>\n",
       "    <tr>\n",
       "      <th>3</th>\n",
       "      <td>55</td>\n",
       "      <td>services</td>\n",
       "      <td>married</td>\n",
       "      <td>secondary</td>\n",
       "      <td>no</td>\n",
       "      <td>2476</td>\n",
       "      <td>yes</td>\n",
       "      <td>no</td>\n",
       "      <td>unknown</td>\n",
       "      <td>5</td>\n",
       "      <td>may</td>\n",
       "      <td>579</td>\n",
       "      <td>1</td>\n",
       "      <td>-1</td>\n",
       "      <td>0</td>\n",
       "      <td>unknown</td>\n",
       "      <td>no</td>\n",
       "    </tr>\n",
       "    <tr>\n",
       "      <th>4</th>\n",
       "      <td>54</td>\n",
       "      <td>admin.</td>\n",
       "      <td>married</td>\n",
       "      <td>tertiary</td>\n",
       "      <td>no</td>\n",
       "      <td>184</td>\n",
       "      <td>no</td>\n",
       "      <td>no</td>\n",
       "      <td>unknown</td>\n",
       "      <td>5</td>\n",
       "      <td>may</td>\n",
       "      <td>673</td>\n",
       "      <td>2</td>\n",
       "      <td>-1</td>\n",
       "      <td>0</td>\n",
       "      <td>unknown</td>\n",
       "      <td>no</td>\n",
       "    </tr>\n",
       "  </tbody>\n",
       "</table>\n",
       "</div>"
      ],
      "text/plain": [
       "   age         job  marital  education default  balance housing loan  contact  \\\n",
       "0   59      admin.  married  secondary      no     2343     yes   no  unknown   \n",
       "1   56      admin.  married  secondary      no       45      no   no  unknown   \n",
       "2   41  technician  married  secondary      no     1270     yes   no  unknown   \n",
       "3   55    services  married  secondary      no     2476     yes   no  unknown   \n",
       "4   54      admin.  married   tertiary      no      184      no   no  unknown   \n",
       "\n",
       "   day month  duration  campaign  pdays  previous poutcome deposit  \n",
       "0    5   may      1042         1     -1         0  unknown      no  \n",
       "1    5   may      1467         1     -1         0  unknown      no  \n",
       "2    5   may      1389         1     -1         0  unknown      no  \n",
       "3    5   may       579         1     -1         0  unknown      no  \n",
       "4    5   may       673         2     -1         0  unknown      no  "
      ]
     },
     "execution_count": 3,
     "metadata": {},
     "output_type": "execute_result"
    }
   ],
   "source": [
    "# Investigate data:\n",
    "x = marketing_data.loc[0:5,\"deposit\"]\n",
    "x[:] = \"no\"\n",
    "x\n",
    "marketing_data.head()"
   ]
  },
  {
   "cell_type": "code",
   "execution_count": null,
   "metadata": {},
   "outputs": [],
   "source": []
  },
  {
   "cell_type": "markdown",
   "metadata": {},
   "source": [
    "We note numerical values for \n",
    "\n",
    "> age, balance, day, duration, campaign, pdays and previous,\n",
    "\n",
    "and 'object' values (usually a string) for\n",
    "\n",
    "> job, marital, education, default, loan, contact, month, poutcome and deposit\n",
    "\n",
    "We further investigate the categories (usually booleans and objects) by looking at the value count"
   ]
  },
  {
   "cell_type": "code",
   "execution_count": 4,
   "metadata": {},
   "outputs": [
    {
     "name": "stdout",
     "output_type": "stream",
     "text": [
      "job :\n",
      "management       2566\n",
      "blue-collar      1944\n",
      "technician       1823\n",
      "admin.           1334\n",
      "services          923\n",
      "retired           778\n",
      "self-employed     405\n",
      "student           360\n",
      "unemployed        357\n",
      "entrepreneur      328\n",
      "housemaid         274\n",
      "unknown            70\n",
      "Name: job, dtype: int64\n",
      "marital :\n",
      "married     6351\n",
      "single      3518\n",
      "divorced    1293\n",
      "Name: marital, dtype: int64\n",
      "education :\n",
      "secondary    5476\n",
      "tertiary     3689\n",
      "primary      1500\n",
      "unknown       497\n",
      "Name: education, dtype: int64\n",
      "default :\n",
      "no     10994\n",
      "yes      168\n",
      "Name: default, dtype: int64\n",
      "housing :\n",
      "no     5881\n",
      "yes    5281\n",
      "Name: housing, dtype: int64\n",
      "loan :\n",
      "no     9702\n",
      "yes    1460\n",
      "Name: loan, dtype: int64\n",
      "contact :\n",
      "cellular     8042\n",
      "unknown      2346\n",
      "telephone     774\n",
      "Name: contact, dtype: int64\n",
      "contact :\n",
      "cellular     8042\n",
      "unknown      2346\n",
      "telephone     774\n",
      "Name: contact, dtype: int64\n",
      "month :\n",
      "may    2824\n",
      "aug    1519\n",
      "jul    1514\n",
      "jun    1222\n",
      "nov     943\n",
      "apr     923\n",
      "feb     776\n",
      "oct     392\n",
      "jan     344\n",
      "sep     319\n",
      "mar     276\n",
      "dec     110\n",
      "Name: month, dtype: int64\n",
      "poutcome :\n",
      "unknown    8326\n",
      "failure    1228\n",
      "success    1071\n",
      "other       537\n",
      "Name: poutcome, dtype: int64\n",
      "deposit :\n",
      "no     5879\n",
      "yes    5283\n",
      "Name: deposit, dtype: int64\n"
     ]
    }
   ],
   "source": [
    "cat = ['job','marital','education','default','housing','loan','contact','contact','month','poutcome','deposit'] # can be automated\n",
    "for c in cat:\n",
    "    print( c, ':')\n",
    "    print(marketing_data[c].value_counts() )"
   ]
  },
  {
   "cell_type": "code",
   "execution_count": 5,
   "metadata": {},
   "outputs": [
    {
     "data": {
      "text/html": [
       "<div>\n",
       "<style scoped>\n",
       "    .dataframe tbody tr th:only-of-type {\n",
       "        vertical-align: middle;\n",
       "    }\n",
       "\n",
       "    .dataframe tbody tr th {\n",
       "        vertical-align: top;\n",
       "    }\n",
       "\n",
       "    .dataframe thead th {\n",
       "        text-align: right;\n",
       "    }\n",
       "</style>\n",
       "<table border=\"1\" class=\"dataframe\">\n",
       "  <thead>\n",
       "    <tr style=\"text-align: right;\">\n",
       "      <th></th>\n",
       "      <th>age</th>\n",
       "      <th>balance</th>\n",
       "      <th>day</th>\n",
       "      <th>duration</th>\n",
       "      <th>campaign</th>\n",
       "      <th>pdays</th>\n",
       "      <th>previous</th>\n",
       "    </tr>\n",
       "  </thead>\n",
       "  <tbody>\n",
       "    <tr>\n",
       "      <th>count</th>\n",
       "      <td>11162.000000</td>\n",
       "      <td>11162.000000</td>\n",
       "      <td>11162.000000</td>\n",
       "      <td>11162.000000</td>\n",
       "      <td>11162.000000</td>\n",
       "      <td>11162.000000</td>\n",
       "      <td>11162.000000</td>\n",
       "    </tr>\n",
       "    <tr>\n",
       "      <th>mean</th>\n",
       "      <td>41.231948</td>\n",
       "      <td>1528.538524</td>\n",
       "      <td>15.658036</td>\n",
       "      <td>371.993818</td>\n",
       "      <td>2.508421</td>\n",
       "      <td>51.330407</td>\n",
       "      <td>0.832557</td>\n",
       "    </tr>\n",
       "    <tr>\n",
       "      <th>std</th>\n",
       "      <td>11.913369</td>\n",
       "      <td>3225.413326</td>\n",
       "      <td>8.420740</td>\n",
       "      <td>347.128386</td>\n",
       "      <td>2.722077</td>\n",
       "      <td>108.758282</td>\n",
       "      <td>2.292007</td>\n",
       "    </tr>\n",
       "    <tr>\n",
       "      <th>min</th>\n",
       "      <td>18.000000</td>\n",
       "      <td>-6847.000000</td>\n",
       "      <td>1.000000</td>\n",
       "      <td>2.000000</td>\n",
       "      <td>1.000000</td>\n",
       "      <td>-1.000000</td>\n",
       "      <td>0.000000</td>\n",
       "    </tr>\n",
       "    <tr>\n",
       "      <th>25%</th>\n",
       "      <td>32.000000</td>\n",
       "      <td>122.000000</td>\n",
       "      <td>8.000000</td>\n",
       "      <td>138.000000</td>\n",
       "      <td>1.000000</td>\n",
       "      <td>-1.000000</td>\n",
       "      <td>0.000000</td>\n",
       "    </tr>\n",
       "    <tr>\n",
       "      <th>50%</th>\n",
       "      <td>39.000000</td>\n",
       "      <td>550.000000</td>\n",
       "      <td>15.000000</td>\n",
       "      <td>255.000000</td>\n",
       "      <td>2.000000</td>\n",
       "      <td>-1.000000</td>\n",
       "      <td>0.000000</td>\n",
       "    </tr>\n",
       "    <tr>\n",
       "      <th>75%</th>\n",
       "      <td>49.000000</td>\n",
       "      <td>1708.000000</td>\n",
       "      <td>22.000000</td>\n",
       "      <td>496.000000</td>\n",
       "      <td>3.000000</td>\n",
       "      <td>20.750000</td>\n",
       "      <td>1.000000</td>\n",
       "    </tr>\n",
       "    <tr>\n",
       "      <th>max</th>\n",
       "      <td>95.000000</td>\n",
       "      <td>81204.000000</td>\n",
       "      <td>31.000000</td>\n",
       "      <td>3881.000000</td>\n",
       "      <td>63.000000</td>\n",
       "      <td>854.000000</td>\n",
       "      <td>58.000000</td>\n",
       "    </tr>\n",
       "  </tbody>\n",
       "</table>\n",
       "</div>"
      ],
      "text/plain": [
       "                age       balance           day      duration      campaign  \\\n",
       "count  11162.000000  11162.000000  11162.000000  11162.000000  11162.000000   \n",
       "mean      41.231948   1528.538524     15.658036    371.993818      2.508421   \n",
       "std       11.913369   3225.413326      8.420740    347.128386      2.722077   \n",
       "min       18.000000  -6847.000000      1.000000      2.000000      1.000000   \n",
       "25%       32.000000    122.000000      8.000000    138.000000      1.000000   \n",
       "50%       39.000000    550.000000     15.000000    255.000000      2.000000   \n",
       "75%       49.000000   1708.000000     22.000000    496.000000      3.000000   \n",
       "max       95.000000  81204.000000     31.000000   3881.000000     63.000000   \n",
       "\n",
       "              pdays      previous  \n",
       "count  11162.000000  11162.000000  \n",
       "mean      51.330407      0.832557  \n",
       "std      108.758282      2.292007  \n",
       "min       -1.000000      0.000000  \n",
       "25%       -1.000000      0.000000  \n",
       "50%       -1.000000      0.000000  \n",
       "75%       20.750000      1.000000  \n",
       "max      854.000000     58.000000  "
      ]
     },
     "execution_count": 5,
     "metadata": {},
     "output_type": "execute_result"
    }
   ],
   "source": [
    "# We can investigate the numerals using the \"describe\" function\n",
    "marketing_data.describe()"
   ]
  },
  {
   "cell_type": "markdown",
   "metadata": {},
   "source": [
    "## Data insights\n",
    "We note that the value for \"month\" is unevenly distributed. Without a clear idea of its meaning, we drop it first\n",
    "\n",
    "Also based on the description of the dataset, we decide that the duration is not suitable to predict, whether it is worth to call a certain customer."
   ]
  },
  {
   "cell_type": "markdown",
   "metadata": {},
   "source": [
    "# Clean the data"
   ]
  },
  {
   "cell_type": "code",
   "execution_count": 6,
   "metadata": {},
   "outputs": [],
   "source": [
    "marketing_data = marketing_data.drop(['duration','month'], axis=1)\n",
    "# when removing month from the table, we also need to drop them from the list of categorical features\n",
    "cat = [item for item in cat if not ( item=='duration' or item=='month' ) ]"
   ]
  },
  {
   "cell_type": "markdown",
   "metadata": {},
   "source": [
    "# Test-Train split\n",
    "We avoid further investigation of the full dataset. Instead, we split the data and work on training data only"
   ]
  },
  {
   "cell_type": "code",
   "execution_count": 7,
   "metadata": {},
   "outputs": [],
   "source": [
    "marketing_label = marketing_data['deposit'].copy()\n",
    "marketing_features = marketing_data.drop('deposit', axis=1)\n",
    "\n",
    "marketing_features, marketing_features_test, marketing_label, marketing_label_test \\\n",
    "    = train_test_split(marketing_features, marketing_label, test_size=0.2, random_state=42)"
   ]
  },
  {
   "cell_type": "code",
   "execution_count": 8,
   "metadata": {},
   "outputs": [
    {
     "name": "stdout",
     "output_type": "stream",
     "text": [
      "(8929, 14)\n",
      "(8929,)\n"
     ]
    }
   ],
   "source": [
    "print(marketing_features.shape)\n",
    "print(marketing_label.shape)"
   ]
  },
  {
   "cell_type": "markdown",
   "metadata": {},
   "source": [
    "# Pre-process data:\n",
    "\n",
    "Fill missing values for numerals\n",
    "\n",
    "Encode categorical features"
   ]
  },
  {
   "cell_type": "code",
   "execution_count": 9,
   "metadata": {},
   "outputs": [],
   "source": [
    "# Numerical and categorical features are handled differently, therefore we split them\n",
    "\n",
    "# we get the categorical features by removing the deposit from the list of categories (as it's the label)\n",
    "cat_feature_names = [item for item in cat if not ( item=='deposit' ) ]\n",
    "\n",
    "marketing_features_num = marketing_features.drop(cat_feature_names, axis=1) \n",
    "numerical_feature_names = marketing_features_num.columns\n",
    "\n",
    "marketing_features_cat = marketing_features[cat_feature_names]"
   ]
  },
  {
   "cell_type": "markdown",
   "metadata": {},
   "source": [
    "Next, we create a class to select numerical or categorical columns. In order to handle both numerical and categorical features, We need some programming trick because Scikit-Learn does not handle DataFrames which would have made this very simple. You can ignore the details of this Jupyter cell and just use the code. However, if you wish to understand, you need to know a few things about Python Classes and about Scikit-Learn conventions.\n",
    "\n",
    "In Python, Classes are used to bundle data and functionality together. When a class is called or initiated it creates an instance with data and functionality. Classes also inherit functionality from their base classes, as we will see below. Also, Python classes have a standard method called '__init__()' that initializes the instance state. Here, the state is the feature names, so each instance will keep the feature names that appears when the class is initiated (see the pipeline in the next cell). The word 'self' is used in Python as a shorthand for the instance of the class. So, for example, the method ‘fit()’ below just returns the instance of the class.\n",
    "\n",
    "The DataFrameSelector class definition below follows the Scikit-Learn convention of having in each class the methods 'fit()' and 'transform()'. The class is also defined as a super-class of two Scikit-Learn classes: The BaseEstimator class provides the new class the methods 'get_params()' and 'set_params()' which may be useful later on. The TransformerMixin class provides the method 'fit_transform()' which is created from the 'fit()' and 'transform()' methods which we define.\n",
    " \n",
    "Although all these definitions are complex, the class itself is simple. The method ‘fit()’ returns the instance itself, and the method 'transform()' selects the numerical  or categorical features according to the state that the instance remembers (feature_names saved as attribute_names). The instance then provides their values. "
   ]
  },
  {
   "cell_type": "code",
   "execution_count": 10,
   "metadata": {},
   "outputs": [],
   "source": [
    "class DataFrameSelector(BaseEstimator, TransformerMixin):\n",
    "    def __init__(self, feature_names):\n",
    "        self.attribute_names = feature_names\n",
    "    def fit(self, X, y=None):\n",
    "        return self\n",
    "    def transform(self, X):\n",
    "        return X[self.attribute_names].values"
   ]
  },
  {
   "cell_type": "code",
   "execution_count": 11,
   "metadata": {},
   "outputs": [
    {
     "name": "stdout",
     "output_type": "stream",
     "text": [
      "age 0\n",
      "job 0\n",
      "marital 0\n",
      "education 0\n",
      "default 0\n",
      "balance 0\n",
      "housing 0\n",
      "loan 0\n",
      "contact 0\n",
      "day 0\n",
      "campaign 0\n",
      "pdays 0\n",
      "previous 0\n",
      "poutcome 0\n",
      "deposit 0\n"
     ]
    }
   ],
   "source": [
    "# counting missing values for each feature:\n",
    "for i in marketing_data:\n",
    "    print( i,marketing_data[i].isnull().sum() )"
   ]
  },
  {
   "cell_type": "code",
   "execution_count": 12,
   "metadata": {},
   "outputs": [],
   "source": [
    "# Impute fills missing numerals by the median of the remaining data\n",
    "imputer = SimpleImputer(strategy=\"median\")\n",
    "\n",
    "# The imputer is fit on the training data. It can then also be applied to the test data (without a refit)\n",
    "num_pipeline = Pipeline([\n",
    "        ('selector', DataFrameSelector(numerical_feature_names)),\n",
    "        ('imputer', SimpleImputer(strategy=\"median\")),\n",
    "        ('std_scaler', StandardScaler()),\n",
    "    ])\n",
    "\n",
    "# We run the pipeline to check, whether it runs with no problems\n",
    "temp = num_pipeline.fit_transform(marketing_features)"
   ]
  },
  {
   "cell_type": "code",
   "execution_count": 13,
   "metadata": {},
   "outputs": [],
   "source": [
    "# One-Hot-Encoder replaces categorical features by boolean features, stating whether a certain category is true or not\n",
    "cat_pipeline = Pipeline([\n",
    "        ('selector', DataFrameSelector(cat_feature_names)),\n",
    "        ('cat_encoder', OneHotEncoder(sparse=False)),\n",
    "    ])\n",
    "\n",
    "# We run the pipeline to check, whether it runs with no problems\n",
    "temp = cat_pipeline.fit_transform(marketing_features)"
   ]
  },
  {
   "cell_type": "code",
   "execution_count": 14,
   "metadata": {},
   "outputs": [],
   "source": [
    "#Combine both imputers and get cleaned data\n",
    "\n",
    "full_pipeline = FeatureUnion(transformer_list=[\n",
    "        (\"num_pipeline\", num_pipeline),\n",
    "        (\"cat_pipeline\", cat_pipeline),\n",
    "    ])\n",
    "marketing_data_prepared = full_pipeline.fit_transform(marketing_features)"
   ]
  },
  {
   "cell_type": "code",
   "execution_count": 15,
   "metadata": {},
   "outputs": [],
   "source": [
    "marketing_label = marketing_label.map({'yes':1, 'no':0})\n",
    "marketing_label_test = marketing_label_test.map({'yes':1, 'no':0})"
   ]
  },
  {
   "cell_type": "code",
   "execution_count": 16,
   "metadata": {},
   "outputs": [
    {
     "name": "stdout",
     "output_type": "stream",
     "text": [
      "(8929, 41)\n"
     ]
    }
   ],
   "source": [
    "# Check the size of the data to see the amount of features\n",
    "print(marketing_data_prepared.shape)"
   ]
  },
  {
   "cell_type": "markdown",
   "metadata": {},
   "source": [
    "# Evaluate models"
   ]
  },
  {
   "cell_type": "markdown",
   "metadata": {},
   "source": [
    "### Logistic Regression"
   ]
  },
  {
   "cell_type": "code",
   "execution_count": 17,
   "metadata": {},
   "outputs": [
    {
     "data": {
      "text/plain": [
       "LogisticRegression(random_state=42, solver='liblinear')"
      ]
     },
     "execution_count": 17,
     "metadata": {},
     "output_type": "execute_result"
    }
   ],
   "source": [
    "logistic_regression=LogisticRegression(random_state=42, solver='liblinear')  \n",
    "#Note \"solver='liblinear'\" was added based on a Future Warning\n",
    "logistic_regression.fit(marketing_data_prepared,marketing_label)"
   ]
  },
  {
   "cell_type": "code",
   "execution_count": 18,
   "metadata": {},
   "outputs": [
    {
     "name": "stdout",
     "output_type": "stream",
     "text": [
      "Mean Squared Error:  0.5654596822556774\n"
     ]
    }
   ],
   "source": [
    "predictions = logistic_regression.predict(marketing_data_prepared)\n",
    "mse = mean_squared_error(marketing_label, predictions)\n",
    "rmse = np.sqrt(mse)\n",
    "print('Mean Squared Error: ', rmse)"
   ]
  },
  {
   "cell_type": "code",
   "execution_count": 19,
   "metadata": {
    "scrolled": true
   },
   "outputs": [
    {
     "name": "stdout",
     "output_type": "stream",
     "text": [
      "     age: -0.0091\n",
      " balance: 0.0875\n",
      "     day: -0.0504\n",
      "campaign: -0.2436\n",
      "   pdays: 0.0265\n",
      "previous: 0.0240\n"
     ]
    }
   ],
   "source": [
    "coefs=logistic_regression.coef_[0]                      # coeficient from the classifier\n",
    "for (a,c) in zip(numerical_feature_names,coefs):    # just the numeric; categorical needs to unpack the one hot encoding\n",
    "    print('%8s: %5.4f' % (a,c) )"
   ]
  },
  {
   "cell_type": "code",
   "execution_count": 20,
   "metadata": {},
   "outputs": [
    {
     "name": "stdout",
     "output_type": "stream",
     "text": [
      "     management (count  2566): -0.0424\n",
      "    blue-collar (count  1944): -0.2741\n",
      "     technician (count  1823): -0.2726\n",
      "         admin. (count  1334): -0.1567\n",
      "       services (count   923): 0.5356\n",
      "        retired (count   778): -0.1444\n",
      "  self-employed (count   405): -0.1045\n",
      "        student (count   360): 0.4273\n",
      "     unemployed (count   357): -0.0723\n",
      "   entrepreneur (count   328): 0.0618\n",
      "      housemaid (count   274): -0.0294\n",
      "        unknown (count    70): 0.0415\n"
     ]
    }
   ],
   "source": [
    "coefs=logistic_regression.coef_[0][7:20]\n",
    "jobs=marketing_data['job'].value_counts()\n",
    "#jobs.index[0]\n",
    "for (ji,jv,c) in zip(jobs.index,jobs,coefs):    # one-hot-encoding for 'job'\n",
    "    print('%15s (count %5d): %5.4f' % (ji,jv,c) )"
   ]
  },
  {
   "cell_type": "markdown",
   "metadata": {},
   "source": [
    "Although the machine learning approach focuses on prediction and minimizing the prediction error, it is important to understand the model in the statistical inference or testing hypothesis tradition. This is important because we would need to explain the results to the business managers and showing the importance and effect of the features is part of this explanation. It may be important also because we may have defined some features incorrectly and reasoning about each feature and its effect helps to reveal such modelling errors. \n",
    "\n",
    "For the current dataset, it would be good to understand the coefficients of the numerical  features first. We see below that higher age and higher balance increases the probability that the customer will purchase a deposit. This makes sense. In contrast, a higher ‘campaign’ value, namely higher number of contacts performed during this campaign and for this client reduces the probability of purchase – so nagging is counter productive, at least in this context.  This non-nagging advise is confirmed by ‘pdays’ the number of days that passed by after the client was last contacted from a previous campaign which has a positive coefficient. The positive coefficient for ‘previous’ which is the number of contacts performed before this campaign and for this client is not very clear because we do not the period length for this variable, but it should be discussed when explaining the results to the business managers."
   ]
  },
  {
   "cell_type": "code",
   "execution_count": 21,
   "metadata": {},
   "outputs": [
    {
     "name": "stdout",
     "output_type": "stream",
     "text": [
      "Mean:0.5695\n",
      "Standard deviation:0.0114\n"
     ]
    }
   ],
   "source": [
    "scores = cross_val_score(logistic_regression, marketing_data_prepared, marketing_label,\n",
    "                         scoring=\"neg_mean_squared_error\", cv=10)\n",
    "rmse_scores = np.sqrt(-scores)\n",
    "#\n",
    "def display_scores(scores):\n",
    "    print('Mean:%5.4f'%scores.mean())\n",
    "    print('Standard deviation:%5.4f'%scores.std())\n",
    "    \n",
    "display_scores(rmse_scores)"
   ]
  },
  {
   "cell_type": "markdown",
   "metadata": {},
   "source": [
    "### Decision Tree"
   ]
  },
  {
   "cell_type": "code",
   "execution_count": 22,
   "metadata": {},
   "outputs": [
    {
     "name": "stdout",
     "output_type": "stream",
     "text": [
      "0.0000\n"
     ]
    }
   ],
   "source": [
    "tree = DecisionTreeClassifier(random_state=42)\n",
    "tree.fit(marketing_data_prepared, marketing_label)\n",
    "\n",
    "predictions = tree.predict(marketing_data_prepared)\n",
    "tree_mse = mean_squared_error(marketing_label, predictions)\n",
    "print('%5.4f'%tree_mse)"
   ]
  },
  {
   "cell_type": "code",
   "execution_count": 23,
   "metadata": {},
   "outputs": [],
   "source": [
    "scores = cross_val_score(tree, marketing_data_prepared, marketing_label,\n",
    "                         scoring=\"neg_mean_squared_error\", cv=10)\n",
    "tree_rmse_scores = np.sqrt(-scores)"
   ]
  },
  {
   "cell_type": "code",
   "execution_count": 24,
   "metadata": {
    "scrolled": true
   },
   "outputs": [
    {
     "name": "stdout",
     "output_type": "stream",
     "text": [
      "Mean:0.6290\n",
      "Standard deviation:0.0094\n"
     ]
    }
   ],
   "source": [
    "display_scores(tree_rmse_scores)"
   ]
  },
  {
   "cell_type": "markdown",
   "metadata": {},
   "source": [
    "Here we note an interesting (and very typical behaviour). The in-sample error (i.e. the error on the trainings data) is zero, while cross-validation shows significantly large error.\n",
    "\n",
    "The reason is that the cross-validation score is computed with out-of-sample data (i.e. the error is computed on data points, which were not used within the traning). This is a typical behaviour of *overfitting*, where the decision tree simply *memorises* the data it is trained with, not yielding a better prediction.\n",
    "\n",
    "The ability to generate a good prediction from the training is calso called *generalisation*. This topic is discussed in Week 5."
   ]
  },
  {
   "cell_type": "markdown",
   "metadata": {},
   "source": [
    "### Random Forest"
   ]
  },
  {
   "cell_type": "code",
   "execution_count": 25,
   "metadata": {},
   "outputs": [
    {
     "data": {
      "text/plain": [
       "RandomForestClassifier(n_estimators=10, random_state=42)"
      ]
     },
     "execution_count": 25,
     "metadata": {},
     "output_type": "execute_result"
    }
   ],
   "source": [
    "forest = RandomForestClassifier(random_state=42, n_estimators=10)\n",
    "#n_estimators=10 avoids future warning\n",
    "forest.fit(marketing_data_prepared, marketing_label)"
   ]
  },
  {
   "cell_type": "code",
   "execution_count": 26,
   "metadata": {},
   "outputs": [
    {
     "name": "stdout",
     "output_type": "stream",
     "text": [
      "0.1372\n"
     ]
    }
   ],
   "source": [
    "predictions = forest.predict(marketing_data_prepared)\n",
    "forest_mse = mean_squared_error(marketing_label, predictions)\n",
    "forest_rmse = np.sqrt(forest_mse)\n",
    "print('%5.4f'%forest_rmse)"
   ]
  },
  {
   "cell_type": "code",
   "execution_count": 27,
   "metadata": {},
   "outputs": [
    {
     "name": "stdout",
     "output_type": "stream",
     "text": [
      "Mean:0.5809\n",
      "Standard deviation:0.0122\n"
     ]
    }
   ],
   "source": [
    "forest_scores = cross_val_score(forest, marketing_data_prepared, marketing_label,\n",
    "                                scoring=\"neg_mean_squared_error\", cv=10)\n",
    "forest_rmse_scores = np.sqrt(-forest_scores)\n",
    "display_scores(forest_rmse_scores)"
   ]
  },
  {
   "cell_type": "markdown",
   "metadata": {},
   "source": [
    "A random forest is simply a collection of decision trees, scaled independently. We see that this *ensemble* is able to provide a better prediction than a single tree. In Week 8, we will discuss ensemble learning in more detail"
   ]
  },
  {
   "cell_type": "markdown",
   "metadata": {},
   "source": [
    "### Support Vector Machine"
   ]
  },
  {
   "cell_type": "code",
   "execution_count": 28,
   "metadata": {},
   "outputs": [
    {
     "name": "stdout",
     "output_type": "stream",
     "text": [
      "Wall time: 3.95 s\n",
      "0.5341\n"
     ]
    }
   ],
   "source": [
    "svm = SVC(gamma='scale') # specifying gamma avoids a FutureWarning\n",
    "%time svm.fit(marketing_data_prepared, marketing_label)\n",
    "predictions = svm.predict(marketing_data_prepared)\n",
    "svm_mse = mean_squared_error(marketing_label, predictions)\n",
    "svm_rmse = np.sqrt(svm_mse)\n",
    "print('%5.4f'%svm_rmse)"
   ]
  },
  {
   "cell_type": "code",
   "execution_count": 29,
   "metadata": {},
   "outputs": [
    {
     "name": "stdout",
     "output_type": "stream",
     "text": [
      "Wall time: 15 s\n",
      "Mean:0.5543\n",
      "Standard deviation:0.0056\n"
     ]
    }
   ],
   "source": [
    "%time svm_scores = cross_val_score(svm, marketing_data_prepared, marketing_label, scoring=\"neg_mean_squared_error\", cv=5)\n",
    "svm_rmse_scores = np.sqrt(-svm_scores)\n",
    "display_scores(svm_rmse_scores)"
   ]
  },
  {
   "cell_type": "markdown",
   "metadata": {},
   "source": [
    "**Trying different hyperparameters**"
   ]
  },
  {
   "cell_type": "code",
   "execution_count": 42,
   "metadata": {},
   "outputs": [
    {
     "name": "stdout",
     "output_type": "stream",
     "text": [
      "\n",
      " C=100\n",
      " All training set RMSE: 0.39906936200982235\n",
      " Cross_validation RMSE\n",
      "Mean:0.5932\n",
      "Standard deviation:0.0064\n",
      "\n",
      " C=0.01\n",
      " All training set RMSE: 0.5807028617468191\n",
      " Cross_validation RMSE\n",
      "Mean:0.5867\n",
      "Standard deviation:0.0125\n"
     ]
    }
   ],
   "source": [
    "from sklearn.base import clone\n",
    "C_list = [100, 0.01]\n",
    "svm_models = [clone(svm) for _ in C_list]\n",
    "for C, model in zip(C_list, svm_models):\n",
    "    model.set_params(C=C)\n",
    "    model.fit(marketing_data_prepared, marketing_label)\n",
    "    predictions = model.predict(marketing_data_prepared)\n",
    "    svm_rmse = mean_squared_error(marketing_label, predictions, squared=False)\n",
    "    print(\"\\n C={0}\\n All training set RMSE: {1}\\n Cross_validation RMSE\".format(C, svm_rmse))\n",
    "    svm_scores = cross_val_score(model, marketing_data_prepared, marketing_label,\n",
    "                                        scoring=\"neg_mean_squared_error\", cv=5)\n",
    "    display_scores(np.sqrt(-svm_scores))    "
   ]
  },
  {
   "cell_type": "markdown",
   "metadata": {},
   "source": [
    "We note the smallest mean squared error for all methods considered. Therefore, we choose to use SVM as our final predictor. Before this, we try to optimise the SVM by performing a *hyper-parameter optimisation*. We'll discuss this further in Meeting 12."
   ]
  },
  {
   "cell_type": "markdown",
   "metadata": {},
   "source": [
    "### Hyper-parameter optimisation (may take some minutes to run)"
   ]
  },
  {
   "cell_type": "code",
   "execution_count": 31,
   "metadata": {},
   "outputs": [
    {
     "name": "stdout",
     "output_type": "stream",
     "text": [
      "Wall time: 3min 10s\n"
     ]
    },
    {
     "data": {
      "text/plain": [
       "GridSearchCV(cv=3, error_score='raise-deprecating',\n",
       "       estimator=SVC(C=1.0, cache_size=200, class_weight=None, coef0=0.0,\n",
       "  decision_function_shape='ovr', degree=3, gamma='scale', kernel='rbf',\n",
       "  max_iter=-1, probability=False, random_state=None, shrinking=True,\n",
       "  tol=0.001, verbose=False),\n",
       "       fit_params=None, iid='warn', n_jobs=None,\n",
       "       param_grid=[{'C': [0.1, 1.0, 10.0], 'kernel': ['linear', 'rbf', 'sigmoid']}, {'kernel': ['poly'], 'C': [0.1, 2.0, 10.0], 'degree': [1, 2, 4]}],\n",
       "       pre_dispatch='2*n_jobs', refit=True, return_train_score=True,\n",
       "       scoring='neg_mean_squared_error', verbose=0)"
      ]
     },
     "execution_count": 31,
     "metadata": {},
     "output_type": "execute_result"
    }
   ],
   "source": [
    "param_grid = [\n",
    "    # try 9 (3×3) combinations of hyperparameters\n",
    "    {'C': [.1, 1., 10.], 'kernel': ['linear', 'rbf', 'sigmoid']},\n",
    "    # then try 9 (3×3) combinations for a polynomial kernel\n",
    "    {'kernel': ['poly'], 'C': [.1, 2., 10.], 'degree': [1, 2, 4]},\n",
    "  ] # in total 9+9=18 combinations are run\n",
    "\n",
    "svm = SVC(gamma='scale')\n",
    "# train across 3 folds, that's a total of 18*3=54 rounds of training \n",
    "grid_search = GridSearchCV(svm, param_grid, cv=3,\n",
    "                           scoring='neg_mean_squared_error', return_train_score=True)\n",
    "%time grid_search.fit(marketing_data_prepared, marketing_label)"
   ]
  },
  {
   "cell_type": "code",
   "execution_count": 32,
   "metadata": {},
   "outputs": [
    {
     "data": {
      "text/plain": [
       "{'C': 0.1, 'degree': 2, 'kernel': 'poly'}"
      ]
     },
     "execution_count": 32,
     "metadata": {},
     "output_type": "execute_result"
    }
   ],
   "source": [
    "grid_search.best_params_ "
   ]
  },
  {
   "cell_type": "code",
   "execution_count": 33,
   "metadata": {},
   "outputs": [
    {
     "data": {
      "text/plain": [
       "SVC(C=0.1, cache_size=200, class_weight=None, coef0=0.0,\n",
       "  decision_function_shape='ovr', degree=2, gamma='scale', kernel='poly',\n",
       "  max_iter=-1, probability=False, random_state=None, shrinking=True,\n",
       "  tol=0.001, verbose=False)"
      ]
     },
     "execution_count": 33,
     "metadata": {},
     "output_type": "execute_result"
    }
   ],
   "source": [
    "grid_search.best_estimator_"
   ]
  },
  {
   "cell_type": "markdown",
   "metadata": {},
   "source": [
    "# Evaluation of the final model"
   ]
  },
  {
   "cell_type": "code",
   "execution_count": 34,
   "metadata": {},
   "outputs": [
    {
     "name": "stdout",
     "output_type": "stream",
     "text": [
      "0.5465\n"
     ]
    }
   ],
   "source": [
    "final_model = grid_search.best_estimator_\n",
    "\n",
    "\n",
    "marketing_features_test_prepared = full_pipeline.transform(marketing_features_test)\n",
    "final_predictions = final_model.predict(marketing_features_test_prepared)\n",
    "\n",
    "\n",
    "final_mse = mean_squared_error(marketing_label_test, final_predictions)\n",
    "final_rmse = np.sqrt(final_mse)\n",
    "print('%5.4f'%final_rmse)"
   ]
  },
  {
   "cell_type": "markdown",
   "metadata": {},
   "source": [
    "## Confusion Matrix & different error types"
   ]
  },
  {
   "cell_type": "code",
   "execution_count": 35,
   "metadata": {},
   "outputs": [
    {
     "name": "stdout",
     "output_type": "stream",
     "text": [
      "[[956 210]\n",
      " [457 610]]\n"
     ]
    }
   ],
   "source": [
    "conf_mat = confusion_matrix(marketing_label_test, final_predictions)\n",
    "print(conf_mat)"
   ]
  },
  {
   "cell_type": "code",
   "execution_count": 36,
   "metadata": {},
   "outputs": [],
   "source": [
    "conf_mat_normalised = conf_mat / conf_mat.sum(axis=1)"
   ]
  },
  {
   "cell_type": "code",
   "execution_count": 37,
   "metadata": {},
   "outputs": [
    {
     "data": {
      "text/plain": [
       "<matplotlib.colorbar.Colorbar at 0x2ac0ce51978>"
      ]
     },
     "execution_count": 37,
     "metadata": {},
     "output_type": "execute_result"
    },
    {
     "data": {
      "image/png": "[encoded data removed]",
      "text/plain": [
       "<Figure size 432x288 with 2 Axes>"
      ]
     },
     "metadata": {
      "needs_background": "light"
     },
     "output_type": "display_data"
    }
   ],
   "source": [
    "fig = plt.figure()\n",
    "ax = fig.add_subplot(111)\n",
    "cax = ax.matshow(conf_mat_normalised)\n",
    "plt.xlabel('Predicted Value')\n",
    "plt.ylabel('Actual Value')\n",
    "fig.colorbar(cax)\n",
    "\n",
    "# Some notes: \n",
    "# To highlight the off-diagonal values, replace the matrix by\n",
    "#  onf_mat_normalised - np.diag(np.diag(conf_mat_normalised))\n",
    "# When a gray-scale image is required add\n",
    "#  cmap='gray'\n",
    "# to the arguments of ax.matshow"
   ]
  },
  {
   "cell_type": "markdown",
   "metadata": {},
   "source": [
    "## ROC Curve"
   ]
  },
  {
   "cell_type": "code",
   "execution_count": 38,
   "metadata": {},
   "outputs": [
    {
     "data": {
      "text/plain": [
       "SVC(C=0.1, cache_size=200, class_weight=None, coef0=0.0,\n",
       "  decision_function_shape='ovr', degree=2, gamma='scale', kernel='poly',\n",
       "  max_iter=-1, probability=True, random_state=None, shrinking=True,\n",
       "  tol=0.001, verbose=False)"
      ]
     },
     "execution_count": 38,
     "metadata": {},
     "output_type": "execute_result"
    }
   ],
   "source": [
    "final_model.probability = True\n",
    "# New fit, to compute scores:\n",
    "final_model.fit(marketing_data_prepared, marketing_label)"
   ]
  },
  {
   "cell_type": "code",
   "execution_count": 39,
   "metadata": {},
   "outputs": [
    {
     "data": {
      "image/png": "[encoded data removed]",
      "text/plain": [
       "<Figure size 432x288 with 1 Axes>"
      ]
     },
     "metadata": {
      "needs_background": "light"
     },
     "output_type": "display_data"
    }
   ],
   "source": [
    "final_predictions_scores = final_model.predict_proba(marketing_features_test_prepared)[:,1]\n",
    "fpr, tpr, thresholds = roc_curve(marketing_label_test, final_predictions_scores)\n",
    "\n",
    "plt.plot(fpr, tpr, linewidth=2)\n",
    "plt.plot([0, 1], [0, 1], 'k--') # dashed diagonal\n",
    "plt.axis([0, 1, 0, 1])\n",
    "plt.xlabel('False Positive Rate (Fall-Out)', fontsize=16)\n",
    "plt.ylabel('True Positive Rate (Recall)', fontsize=16)\n",
    "plt.grid(True)"
   ]
  },
  {
   "cell_type": "markdown",
   "metadata": {},
   "source": [
    "## Precision and Recall"
   ]
  },
  {
   "cell_type": "code",
   "execution_count": 40,
   "metadata": {},
   "outputs": [
    {
     "data": {
      "image/png": "[encoded data removed]",
      "text/plain": [
       "<Figure size 432x288 with 1 Axes>"
      ]
     },
     "metadata": {
      "needs_background": "light"
     },
     "output_type": "display_data"
    }
   ],
   "source": [
    "precisions, recalls, thresholds = precision_recall_curve(marketing_label_test, final_predictions_scores)\n",
    "\n",
    "plt.plot(thresholds, precisions[:-1], \"b--\", label=\"Precision\", linewidth=2)\n",
    "plt.plot(thresholds, recalls[:-1], \"g-\", label=\"Recall\", linewidth=2)\n",
    "plt.legend(loc=\"center right\", fontsize=16)\n",
    "plt.xlabel(\"Threshold\", fontsize=16) \n",
    "plt.grid(True)\n",
    "\n",
    "plt.show()"
   ]
  },
  {
   "cell_type": "code",
   "execution_count": 41,
   "metadata": {},
   "outputs": [
    {
     "data": {
      "image/png": "[encoded data removed]",
      "text/plain": [
       "<Figure size 432x288 with 1 Axes>"
      ]
     },
     "metadata": {
      "needs_background": "light"
     },
     "output_type": "display_data"
    }
   ],
   "source": [
    "plt.plot(recalls, precisions, \"b-\", linewidth=2)\n",
    "plt.xlabel(\"Recall\", fontsize=16)\n",
    "plt.ylabel(\"Precision\", fontsize=16)\n",
    "plt.axis([0, 1, 0, 1])\n",
    "plt.grid(True)\n",
    "plt.show()"
   ]
  },
  {
   "cell_type": "markdown",
   "metadata": {},
   "source": [
    "# Evaluate Business Case:"
   ]
  },
  {
   "cell_type": "markdown",
   "metadata": {},
   "source": [
    "### Idea\n",
    "1 person on the phone, 1 week for the campaign. Customer list made up by the 2233 items of the test set\n",
    "\n",
    "Estimation: 10min per call (includes preparation), 8hrs per day -> 240 customers can be called"
   ]
  },
  {
   "cell_type": "markdown",
   "metadata": {},
   "source": [
    "### Business decision\n",
    "\n",
    "Call the customers with the highest probability score"
   ]
  },
  {
   "cell_type": "code",
   "execution_count": 42,
   "metadata": {},
   "outputs": [],
   "source": [
    "costumer_predictions = final_predictions_scores\n",
    "costumer_actual_choice = marketing_label_test.values"
   ]
  },
  {
   "cell_type": "code",
   "execution_count": 43,
   "metadata": {},
   "outputs": [],
   "source": [
    "# Sort the customers in descending order by their score\n",
    "index_sort = np.argsort(costumer_predictions)[::-1]\n",
    "# Note: np.argsort sorts ascending. By inverting the order [::-1], we get a descending order\n",
    "\n",
    "predictions_sorted = costumer_predictions[index_sort]"
   ]
  },
  {
   "cell_type": "code",
   "execution_count": 44,
   "metadata": {},
   "outputs": [],
   "source": [
    "customers_sorted = costumer_actual_choice[index_sort]"
   ]
  },
  {
   "cell_type": "code",
   "execution_count": 45,
   "metadata": {},
   "outputs": [
    {
     "name": "stdout",
     "output_type": "stream",
     "text": [
      "Customers score\n",
      "[0.99025294 0.98345383 0.96151924 0.95900919 0.9572509  0.95628725\n",
      " 0.95145627 0.95106396 0.95097529 0.94720085 0.94141323 0.94099662\n",
      " 0.94042798 0.9403448  0.93992241 0.9387978  0.93811855 0.9336698\n",
      " 0.92712257 0.92636143 0.92533505 0.92447339 0.92439596 0.92398535\n",
      " 0.92221603 0.92192614 0.91986297 0.91964376 0.91959453 0.91818464\n",
      " 0.91653457 0.9154344  0.91520481 0.91439168 0.91371129 0.91303578\n",
      " 0.91291421 0.911507   0.91104981 0.91080063 0.90763035 0.90704783\n",
      " 0.9053127  0.90249946 0.90238871 0.90020015 0.89959293 0.8977321\n",
      " 0.8956381  0.89393401 0.89376367 0.89314408 0.89252889 0.89243422\n",
      " 0.89166876 0.89090001 0.89061557 0.89021475 0.8891875  0.88875012\n",
      " 0.88863081 0.88810667 0.88776488 0.88755    0.88708415 0.88560484\n",
      " 0.88527038 0.88439319 0.88315613 0.88283424 0.8823555  0.88166455\n",
      " 0.88162105 0.88082268 0.87996365 0.87936508 0.87788819 0.87775924\n",
      " 0.87709743 0.87700662 0.87646616 0.87610596 0.87532443 0.87518573\n",
      " 0.87513494 0.87344111 0.87253041 0.87146899 0.87100671 0.87038706\n",
      " 0.86952864 0.86950441 0.86945354 0.8676225  0.8669195  0.86580909\n",
      " 0.86549595 0.86528093 0.86502869 0.86444558 0.86282945 0.86176424\n",
      " 0.86125098 0.86093423 0.86003769 0.85888189 0.85880955 0.8585065\n",
      " 0.85838363 0.85817935 0.85805459 0.85643721 0.85638449 0.85633753\n",
      " 0.8560635  0.8555423  0.85545273 0.8548318  0.8543958  0.85398606\n",
      " 0.85339251 0.85312092 0.85309543 0.85305948 0.85164961 0.85130317\n",
      " 0.85043826 0.84988766 0.84976373 0.84968838 0.84939337 0.84919257\n",
      " 0.84885155 0.84878133 0.84701414 0.84680924 0.84634105 0.8462642\n",
      " 0.84543647 0.84515202 0.84426485 0.84328922 0.84271753 0.8418521\n",
      " 0.84013851 0.84000335 0.83981677 0.83887083 0.83759172 0.83730532\n",
      " 0.83637259 0.83622309 0.83619038 0.83581874 0.83574239 0.83560548\n",
      " 0.83415571 0.83364617 0.83288205 0.83231242 0.83130228 0.82939252\n",
      " 0.82920297 0.82875029 0.82809134 0.82781527 0.82737998 0.82612419\n",
      " 0.82588881 0.82586386 0.82527125 0.82460523 0.82378842 0.8235931\n",
      " 0.82355529 0.8229392  0.82238091 0.82236645 0.8216489  0.82156003\n",
      " 0.82072603 0.82067284 0.8203371  0.81958884 0.81947446 0.8183498\n",
      " 0.81825687 0.81562583 0.81474194 0.81357173 0.81241462 0.81153652\n",
      " 0.81140379 0.81063414 0.81043268 0.80934476 0.808485   0.80776503\n",
      " 0.80691619 0.80647427 0.80636972 0.80587163 0.80563633 0.80552582\n",
      " 0.80517525 0.80468651 0.8044091  0.80351948 0.80331443 0.80267383\n",
      " 0.80228434 0.79899597 0.79806818 0.79746017 0.79740576 0.7972785\n",
      " 0.79691353 0.79654764 0.79643446 0.7964171  0.79623098 0.79243985\n",
      " 0.79175389 0.79171781 0.79148196 0.79129776 0.79013016 0.78897051\n",
      " 0.78881596 0.78822766 0.78793082 0.78756242 0.78730054 0.78726861\n",
      " 0.78563513 0.78477213 0.7847327  0.78472336 0.78392508 0.78337544]\n",
      "\n",
      "Customers actual choice (1 is a success, 0 is unsuccessful):\n",
      "[1 1 0 1 1 1 1 1 1 1 1 1 1 1 1 1 1 1 1 0 1 1 1 1 1 1 1 1 1 1 1 1 1 1 0 1 1\n",
      " 1 0 1 0 1 1 1 1 1 1 1 1 1 1 1 1 1 1 1 1 1 1 1 1 1 1 1 1 1 1 1 1 1 1 1 1 1\n",
      " 1 1 1 1 1 1 0 1 1 1 1 1 1 1 1 1 1 1 1 1 0 1 1 1 1 1 1 0 1 1 1 0 1 1 1 0 1\n",
      " 1 1 1 0 1 1 1 1 1 1 1 1 0 1 1 1 1 1 0 1 1 1 1 1 1 1 0 1 1 1 1 1 1 1 1 1 1\n",
      " 1 0 1 1 1 1 1 1 1 1 1 1 1 1 1 1 1 1 1 1 1 1 1 1 1 1 1 0 0 1 1 1 1 1 1 1 1\n",
      " 1 1 1 1 1 1 1 1 1 1 1 1 0 1 0 1 1 1 1 1 1 1 1 1 1 1 0 0 1 1 1 0 1 1 0 1 1\n",
      " 1 1 1 1 1 1 1 1 1 1 1 1 1 0 1 1 1 0]\n"
     ]
    }
   ],
   "source": [
    "# The customers are now sorted with ascending probability to deposit. \n",
    "#  Hence, we will contact the last 240 customers of the list\n",
    "print('Customers score')\n",
    "print(predictions_sorted[:240])\n",
    "print('')\n",
    "print('Customers actual choice (1 is a success, 0 is unsuccessful):')\n",
    "outcome_called_customers = customers_sorted[:240]\n",
    "print(outcome_called_customers)\n",
    "# the index of these customers can be found in index_sort"
   ]
  },
  {
   "cell_type": "code",
   "execution_count": 46,
   "metadata": {},
   "outputs": [
    {
     "name": "stdout",
     "output_type": "stream",
     "text": [
      "Out of 240 customers, 215 have deposited money\n"
     ]
    }
   ],
   "source": [
    "print('Out of 240 customers, {} have deposited money'.format(sum(outcome_called_customers)))"
   ]
  },
  {
   "cell_type": "markdown",
   "metadata": {},
   "source": [
    "To interpret the result, we need to compare the result of the prediction with the status quo, i.e. the expected outcome without any data analysis. In this case, we would have called 240 random customers. Let's compare"
   ]
  },
  {
   "cell_type": "code",
   "execution_count": 47,
   "metadata": {},
   "outputs": [
    {
     "name": "stdout",
     "output_type": "stream",
     "text": [
      "Customers actual choice (1 is a success, 0 is unsuccessful):\n",
      "[1 0 0 0 1 1 0 0 0 0 0 0 1 1 0 0 0 1 1 1 0 0 0 1 1 0 1 1 0 1 0 1 1 0 1 0 0\n",
      " 0 1 0 0 0 1 1 0 0 0 1 1 1 0 1 0 1 0 0 1 1 1 0 1 1 1 0 1 1 0 1 1 0 1 1 1 1\n",
      " 0 1 0 0 0 1 1 1 0 0 1 1 0 1 1 1 0 1 1 1 0 1 1 1 0 1 1 1 0 0 0 0 0 1 0 1 1\n",
      " 1 0 0 1 0 1 1 0 0 0 1 0 1 0 0 0 1 1 0 0 0 0 0 0 1 1 1 0 0 0 0 1 1 1 1 1 1\n",
      " 1 0 0 0 0 0 1 0 0 1 0 0 1 1 1 1 1 1 1 1 1 1 0 1 0 1 0 1 0 0 0 1 1 1 1 1 0\n",
      " 1 0 1 1 1 0 1 0 0 1 1 1 0 1 1 0 0 1 1 1 0 0 1 0 0 1 0 0 1 1 0 0 1 1 0 0 1\n",
      " 1 0 0 1 1 0 1 0 0 0 0 0 0 0 1 0 1 0]\n"
     ]
    }
   ],
   "source": [
    "#240 random customers:\n",
    "np.random.seed(142)\n",
    "random_values = np.random.permutation(len(costumer_actual_choice))\n",
    "customers_random = costumer_actual_choice[random_values]\n",
    "\n",
    "print('Customers actual choice (1 is a success, 0 is unsuccessful):')\n",
    "outcome_randomly_called_customers = customers_random[:240]\n",
    "print(outcome_randomly_called_customers)"
   ]
  },
  {
   "cell_type": "code",
   "execution_count": 48,
   "metadata": {},
   "outputs": [
    {
     "name": "stdout",
     "output_type": "stream",
     "text": [
      "Without the data analysis, out of 240 customers, 123 have deposited money\n"
     ]
    }
   ],
   "source": [
    "print('Without the data analysis, out of 240 customers, {} have deposited money'.\n",
    "      format(sum(outcome_randomly_called_customers)))"
   ]
  },
  {
   "cell_type": "markdown",
   "metadata": {},
   "source": [
    "## Interpretation\n",
    "\n",
    "This shows the full effect of the data analysis. Instead of 123 customers, 214 would deposit based on our analysis. These are 91 extra customers and an increase of over 70%"
   ]
  },
  {
   "cell_type": "code",
   "execution_count": null,
   "metadata": {},
   "outputs": [],
   "source": []
  },
  {
   "cell_type": "code",
   "execution_count": null,
   "metadata": {},
   "outputs": [],
   "source": []
  }
 ],
 "metadata": {
  "kernelspec": {
   "display_name": "Python 3",
   "language": "python",
   "name": "python3"
  },
  "language_info": {
   "codemirror_mode": {
    "name": "ipython",
    "version": 3
   },
   "file_extension": ".py",
   "mimetype": "text/x-python",
   "name": "python",
   "nbconvert_exporter": "python",
   "pygments_lexer": "ipython3",
   "version": "3.8.5"
  },
  "toc": {
   "base_numbering": 1,
   "nav_menu": {},
   "number_sections": true,
   "sideBar": true,
   "skip_h1_title": false,
   "title_cell": "Table of Contents",
   "title_sidebar": "Contents",
   "toc_cell": false,
   "toc_position": {},
   "toc_section_display": true,
   "toc_window_display": false
  }
 },
 "nbformat": 4,
 "nbformat_minor": 2
}
